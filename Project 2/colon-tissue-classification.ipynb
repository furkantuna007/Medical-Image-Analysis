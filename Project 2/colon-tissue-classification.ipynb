{
  "cells": [
    {
      "cell_type": "code",
      "execution_count": 1,
      "metadata": {
        "colab": {
          "base_uri": "https://localhost:8080/"
        },
        "id": "K8_Aptn99-zT",
        "outputId": "4d51e8eb-05ce-4cc4-be0a-94dd0d31c6b4"
      },
      "outputs": [
        {
          "name": "stdout",
          "output_type": "stream",
          "text": [
            "Mounted at /content/drive\n"
          ]
        }
      ],
      "source": [
        "from google.colab import drive\n",
        "import zipfile\n",
        "\n",
        "# Mount Google Drive if the zip file is located there\n",
        "drive.mount('/content/drive')\n"
      ]
    },
    {
      "cell_type": "code",
      "execution_count": null,
      "metadata": {
        "id": "atV08gSH9_0h"
      },
      "outputs": [],
      "source": [
        "# Define the path to the zip file\n",
        "zip_file_path = '/content/drive/MyDrive/project/dataset.zip'  # Update the path accordingly\n",
        "\n",
        "# Define the extraction directory\n",
        "extract_to = '/content/drive/MyDrive/project'  # You can change this to your desired extraction directory\n",
        "\n",
        "# Unzip the file\n",
        "with zipfile.ZipFile(zip_file_path, 'r') as zip_ref:\n",
        "    zip_ref.extractall(extract_to)\n",
        "\n",
        "print(f'Files extracted to {extract_to}')"
      ]
    },
    {
      "cell_type": "code",
      "execution_count": 4,
      "metadata": {
        "colab": {
          "base_uri": "https://localhost:8080/"
        },
        "execution": {
          "iopub.execute_input": "2024-05-27T19:06:50.729633Z",
          "iopub.status.busy": "2024-05-27T19:06:50.729240Z",
          "iopub.status.idle": "2024-05-27T19:06:52.597749Z",
          "shell.execute_reply": "2024-05-27T19:06:52.596664Z",
          "shell.execute_reply.started": "2024-05-27T19:06:50.729600Z"
        },
        "id": "0Ij7rMvT99tX",
        "outputId": "db7868f3-b5eb-42f8-9249-b7ddbe71a528",
        "trusted": true
      },
      "outputs": [
        {
          "name": "stdout",
          "output_type": "stream",
          "text": [
            "Skipping file /content/drive/MyDrive/project/dataset/test/.DS_Store, not a valid image.\n",
            "Oversampled Training Class Counts:\n",
            "Class 1: 70\n",
            "Class 2: 70\n",
            "Class 3: 70\n",
            "Validation Class Counts:\n",
            "Class 1: 12\n",
            "Class 2: 18\n",
            "Class 3: 8\n",
            "Test Class Counts:\n",
            "Class 1: 47\n",
            "Class 2: 57\n",
            "Class 3: 39\n"
          ]
        }
      ],
      "source": [
        "import os\n",
        "import numpy as np\n",
        "from PIL import Image, UnidentifiedImageError\n",
        "from sklearn.model_selection import train_test_split\n",
        "from imblearn.over_sampling import RandomOverSampler\n",
        "\n",
        "def load_data(image_dir, labels_file, target_size=(299, 299)):\n",
        "    with open(labels_file, 'r') as f:\n",
        "        labels = [int(line.strip()) - 1 for line in f.readlines()]  \n",
        "\n",
        "    image_files = sorted(os.listdir(image_dir))\n",
        "    images = []\n",
        "    image_labels = []\n",
        "\n",
        "    for img_file, label in zip(image_files, labels):\n",
        "        img_path = os.path.join(image_dir, img_file)\n",
        "        try:\n",
        "            img = Image.open(img_path).resize(target_size)\n",
        "            images.append(np.array(img))\n",
        "            image_labels.append(label)\n",
        "        except (UnidentifiedImageError, IOError):\n",
        "            print(f\"Skipping file {img_path}, not a valid image.\")\n",
        "\n",
        "    images = np.array(images)\n",
        "    image_labels = np.array(image_labels)\n",
        "    return images, image_labels\n",
        "\n",
        "def normalize_images(images):\n",
        "    return (images / 127.5) - 1\n",
        "\n",
        "\n",
        "train_dir = '/content/drive/MyDrive/project/dataset/training'\n",
        "train_labels_file = '/content/drive/MyDrive/project/dataset/training_labels.txt'\n",
        "test_dir = '/content/drive/MyDrive/project/dataset/test'\n",
        "test_labels_file = '/content/drive/MyDrive/project/dataset/test_labels.txt'\n",
        "\n",
        "\n",
        "train_images, train_labels = load_data(train_dir, train_labels_file)\n",
        "test_images, test_labels = load_data(test_dir, test_labels_file)\n",
        "\n",
        "\n",
        "train_images = normalize_images(train_images)\n",
        "test_images = normalize_images(test_images)\n",
        "\n",
        "\n",
        "train_images, val_images, train_labels, val_labels = train_test_split(train_images, train_labels, test_size=0.2, random_state=42, stratify=train_labels)\n",
        "\n",
        "\n",
        "n_samples_train, width, height, n_channels = train_images.shape\n",
        "train_images_flat = train_images.reshape(n_samples_train, -1)\n",
        "\n",
        "n_samples_val = val_images.shape[0]\n",
        "val_images_flat = val_images.reshape(n_samples_val, -1)\n",
        "\n",
        "n_samples_test = test_images.shape[0]\n",
        "test_images_flat = test_images.reshape(n_samples_test, -1)\n",
        "\n",
        "ros = RandomOverSampler(random_state=42)\n",
        "train_images_resampled, train_labels_resampled = ros.fit_resample(train_images_flat, train_labels)\n",
        "\n",
        "\n",
        "train_images_resampled = train_images_resampled.reshape(-1, width, height, n_channels)\n",
        "\n",
        "unique_labels_train, counts_train = np.unique(train_labels_resampled, return_counts=True)\n",
        "print(\"Oversampled Training Class Counts:\")\n",
        "for label, count in zip(unique_labels_train, counts_train):\n",
        "    print(f\"Class {label + 1}: {count}\")\n",
        "\n",
        "\n",
        "unique_labels_val, counts_val = np.unique(val_labels, return_counts=True)\n",
        "print(\"Validation Class Counts:\")\n",
        "for label, count in zip(unique_labels_val, counts_val):\n",
        "    print(f\"Class {label + 1}: {count}\")\n",
        "\n",
        "\n",
        "unique_labels_test, counts_test = np.unique(test_labels, return_counts=True)\n",
        "print(\"Test Class Counts:\")\n",
        "for label, count in zip(unique_labels_test, counts_test):\n",
        "    print(f\"Class {label + 1}: {count}\")\n"
      ]
    },
    {
      "cell_type": "code",
      "execution_count": 6,
      "metadata": {
        "id": "Fy1zM6CKCk0n"
      },
      "outputs": [],
      "source": [
        "import os\n",
        "import numpy as np\n",
        "from PIL import Image, UnidentifiedImageError\n",
        "from sklearn.model_selection import train_test_split\n",
        "from imblearn.over_sampling import RandomOverSampler\n",
        "from tensorflow.keras.applications import InceptionV3\n",
        "from tensorflow.keras.models import Model\n",
        "from tensorflow.keras.layers import GlobalAveragePooling2D, Dense, Dropout\n",
        "from tensorflow.keras.optimizers import Adam"
      ]
    },
    {
      "cell_type": "code",
      "execution_count": 7,
      "metadata": {
        "colab": {
          "base_uri": "https://localhost:8080/"
        },
        "execution": {
          "iopub.execute_input": "2024-05-27T19:09:56.983976Z",
          "iopub.status.busy": "2024-05-27T19:09:56.983219Z",
          "iopub.status.idle": "2024-05-27T19:11:26.034426Z",
          "shell.execute_reply": "2024-05-27T19:11:26.033526Z",
          "shell.execute_reply.started": "2024-05-27T19:09:56.983942Z"
        },
        "id": "G4xHVc7R99tg",
        "outputId": "2f632311-4ed8-4446-ec63-2c9e97f4bfc1",
        "trusted": true
      },
      "outputs": [
        {
          "name": "stdout",
          "output_type": "stream",
          "text": [
            "Downloading data from https://storage.googleapis.com/tensorflow/keras-applications/inception_v3/inception_v3_weights_tf_dim_ordering_tf_kernels_notop.h5\n",
            "87910968/87910968 [==============================] - 0s 0us/step\n",
            "Epoch 1/10\n",
            "7/7 [==============================] - 23s 1s/step - loss: 1.2954 - accuracy: 0.5095 - val_loss: 1.1455 - val_accuracy: 0.4211\n",
            "Epoch 2/10\n",
            "7/7 [==============================] - 1s 141ms/step - loss: 0.8466 - accuracy: 0.7190 - val_loss: 0.7753 - val_accuracy: 0.5789\n",
            "Epoch 3/10\n",
            "7/7 [==============================] - 1s 165ms/step - loss: 0.4746 - accuracy: 0.8238 - val_loss: 0.5288 - val_accuracy: 0.7632\n",
            "Epoch 4/10\n",
            "7/7 [==============================] - 1s 142ms/step - loss: 0.3233 - accuracy: 0.8762 - val_loss: 0.7707 - val_accuracy: 0.6579\n",
            "Epoch 5/10\n",
            "7/7 [==============================] - 1s 166ms/step - loss: 0.2439 - accuracy: 0.9048 - val_loss: 0.4178 - val_accuracy: 0.8947\n",
            "Epoch 6/10\n",
            "7/7 [==============================] - 1s 145ms/step - loss: 0.2404 - accuracy: 0.8857 - val_loss: 0.4079 - val_accuracy: 0.8158\n",
            "Epoch 7/10\n",
            "7/7 [==============================] - 1s 158ms/step - loss: 0.1787 - accuracy: 0.9238 - val_loss: 0.6490 - val_accuracy: 0.6842\n",
            "Epoch 8/10\n",
            "7/7 [==============================] - 1s 178ms/step - loss: 0.1599 - accuracy: 0.9476 - val_loss: 0.4485 - val_accuracy: 0.8421\n",
            "Epoch 9/10\n",
            "7/7 [==============================] - 1s 181ms/step - loss: 0.1008 - accuracy: 0.9714 - val_loss: 0.7181 - val_accuracy: 0.7632\n",
            "Epoch 10/10\n",
            "7/7 [==============================] - 1s 144ms/step - loss: 0.0773 - accuracy: 0.9857 - val_loss: 0.5201 - val_accuracy: 0.7632\n",
            "Epoch 1/10\n",
            "7/7 [==============================] - 12s 616ms/step - loss: 0.2660 - accuracy: 0.8714 - val_loss: 0.5073 - val_accuracy: 0.7632\n",
            "Epoch 2/10\n",
            "7/7 [==============================] - 1s 156ms/step - loss: 0.1337 - accuracy: 0.9524 - val_loss: 0.5379 - val_accuracy: 0.7895\n",
            "Epoch 3/10\n",
            "7/7 [==============================] - 1s 179ms/step - loss: 0.1316 - accuracy: 0.9762 - val_loss: 0.5977 - val_accuracy: 0.7895\n",
            "Epoch 4/10\n",
            "7/7 [==============================] - 1s 179ms/step - loss: 0.0799 - accuracy: 0.9857 - val_loss: 0.6477 - val_accuracy: 0.7368\n",
            "Epoch 5/10\n",
            "7/7 [==============================] - 1s 179ms/step - loss: 0.1187 - accuracy: 0.9571 - val_loss: 0.6778 - val_accuracy: 0.7105\n",
            "Epoch 6/10\n",
            "7/7 [==============================] - 1s 156ms/step - loss: 0.0695 - accuracy: 0.9905 - val_loss: 0.6709 - val_accuracy: 0.7105\n",
            "Epoch 7/10\n",
            "7/7 [==============================] - 1s 179ms/step - loss: 0.0571 - accuracy: 0.9952 - val_loss: 0.6536 - val_accuracy: 0.7368\n",
            "Epoch 8/10\n",
            "7/7 [==============================] - 1s 156ms/step - loss: 0.0537 - accuracy: 0.9905 - val_loss: 0.6336 - val_accuracy: 0.7368\n",
            "Epoch 9/10\n",
            "7/7 [==============================] - 1s 179ms/step - loss: 0.0412 - accuracy: 0.9952 - val_loss: 0.6075 - val_accuracy: 0.7368\n",
            "Epoch 10/10\n",
            "7/7 [==============================] - 1s 160ms/step - loss: 0.0491 - accuracy: 1.0000 - val_loss: 0.5901 - val_accuracy: 0.7368\n",
            "5/5 [==============================] - 4s 910ms/step - loss: 2.3252 - accuracy: 0.4825\n",
            "Test loss: 2.325242519378662\n",
            "Test accuracy: 0.4825174808502197\n"
          ]
        }
      ],
      "source": [
        "\n",
        "base_model = InceptionV3(weights='imagenet', include_top=False, input_shape=(299, 299, 3))\n",
        "\n",
        "\n",
        "x = base_model.output\n",
        "x = GlobalAveragePooling2D()(x)\n",
        "x = Dense(1024, activation='relu')(x)\n",
        "x = Dropout(0.5)(x)\n",
        "predictions = Dense(3, activation='softmax')(x)  \n",
        "\n",
        "\n",
        "model = Model(inputs=base_model.input, outputs=predictions)\n",
        "\n",
        "\n",
        "for layer in base_model.layers:\n",
        "    layer.trainable = False\n",
        "\n",
        "\n",
        "model.compile(optimizer=Adam(learning_rate=0.001), loss='sparse_categorical_crossentropy', metrics=['accuracy'])\n",
        "\n",
        "\n",
        "history = model.fit(train_images_resampled, train_labels_resampled,\n",
        "                    epochs=10,\n",
        "                    batch_size=32,\n",
        "                    validation_data=(val_images, val_labels))\n",
        "\n",
        "\n",
        "for layer in base_model.layers[-30:]:  \n",
        "    layer.trainable = True\n",
        "\n",
        "\n",
        "model.compile(optimizer=Adam(learning_rate=1e-5), loss='sparse_categorical_crossentropy', metrics=['accuracy'])\n",
        "\n",
        "\n",
        "fine_tune_history = model.fit(train_images_resampled, train_labels_resampled,\n",
        "                              epochs=10,\n",
        "                              batch_size=32,\n",
        "                              validation_data=(val_images, val_labels))\n",
        "\n",
        "\n",
        "test_loss, test_accuracy = model.evaluate(test_images, test_labels)\n",
        "print(f'Test loss: {test_loss}')\n",
        "print(f'Test accuracy: {test_accuracy}')"
      ]
    },
    {
      "cell_type": "code",
      "execution_count": 10,
      "metadata": {
        "colab": {
          "base_uri": "https://localhost:8080/"
        },
        "execution": {
          "iopub.execute_input": "2024-05-27T19:15:30.978333Z",
          "iopub.status.busy": "2024-05-27T19:15:30.977455Z",
          "iopub.status.idle": "2024-05-27T19:15:41.742107Z",
          "shell.execute_reply": "2024-05-27T19:15:41.741088Z",
          "shell.execute_reply.started": "2024-05-27T19:15:30.978298Z"
        },
        "id": "uiJ0PlD799ti",
        "outputId": "67d2d3c6-7792-41ed-873c-61ac832b80e1",
        "trusted": true
      },
      "outputs": [
        {
          "name": "stdout",
          "output_type": "stream",
          "text": [
            "5/5 [==============================] - 1s 128ms/step\n",
            "Classification Report:\n",
            "              precision    recall  f1-score   support\n",
            "\n",
            "     Class 1       0.28      0.26      0.27        47\n",
            "     Class 2       0.51      0.68      0.59        57\n",
            "     Class 3       0.75      0.46      0.57        39\n",
            "\n",
            "    accuracy                           0.48       143\n",
            "   macro avg       0.51      0.47      0.47       143\n",
            "weighted avg       0.50      0.48      0.48       143\n",
            "\n",
            "Confusion Matrix:\n",
            "[[12 33  2]\n",
            " [14 39  4]\n",
            " [17  4 18]]\n"
          ]
        }
      ],
      "source": [
        "from sklearn.metrics import classification_report, confusion_matrix\n",
        "\n",
        "test_predictions = model.predict(test_images)\n",
        "\n",
        "\n",
        "test_pred_labels = np.argmax(test_predictions, axis=1)\n",
        "\n",
        "\n",
        "print(\"Classification Report:\")\n",
        "print(classification_report(test_labels, test_pred_labels, target_names=['Class 1', 'Class 2', 'Class 3']))\n",
        "\n",
        "\n",
        "print(\"Confusion Matrix:\")\n",
        "print(confusion_matrix(test_labels, test_pred_labels))"
      ]
    }
  ],
  "metadata": {
    "accelerator": "GPU",
    "colab": {
      "gpuType": "T4",
      "provenance": []
    },
    "kaggle": {
      "accelerator": "gpu",
      "dataSources": [
        {
          "datasetId": 5096347,
          "sourceId": 8532714,
          "sourceType": "datasetVersion"
        }
      ],
      "dockerImageVersionId": 30699,
      "isGpuEnabled": true,
      "isInternetEnabled": true,
      "language": "python",
      "sourceType": "notebook"
    },
    "kernelspec": {
      "display_name": "Python 3",
      "name": "python3"
    },
    "language_info": {
      "codemirror_mode": {
        "name": "ipython",
        "version": 3
      },
      "file_extension": ".py",
      "mimetype": "text/x-python",
      "name": "python",
      "nbconvert_exporter": "python",
      "pygments_lexer": "ipython3",
      "version": "3.10.13"
    }
  },
  "nbformat": 4,
  "nbformat_minor": 0
}
